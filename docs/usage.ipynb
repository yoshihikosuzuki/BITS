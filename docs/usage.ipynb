{
 "cells": [
  {
   "cell_type": "markdown",
   "metadata": {},
   "source": [
    "First of all, you have to import the library:"
   ]
  },
  {
   "cell_type": "code",
   "execution_count": 1,
   "metadata": {},
   "outputs": [],
   "source": [
    "import BITS"
   ]
  },
  {
   "cell_type": "markdown",
   "metadata": {},
   "source": [
    "Instead, you can load some specific funcitons/classes you want to use:"
   ]
  },
  {
   "cell_type": "code",
   "execution_count": 3,
   "metadata": {},
   "outputs": [],
   "source": [
    "from BITS.utils import run_command"
   ]
  },
  {
   "cell_type": "markdown",
   "metadata": {},
   "source": [
    "Or you can load a single whole submodule by:"
   ]
  },
  {
   "cell_type": "code",
   "execution_count": 3,
   "metadata": {},
   "outputs": [],
   "source": [
    "from BITS import seq"
   ]
  },
  {
   "cell_type": "markdown",
   "metadata": {},
   "source": [
    "We offer the following submodules for now:\n",
    "\n",
    "* `utils`\n",
    "* `seq`\n",
    "* `run`\n",
    "* `plot`\n",
    "* (`sge_nize` and `slurm_nize` only from shell, which actually just calls a function of the same name in `utils`)\n",
    "\n",
    "Below are detailed descriptions of the functions and classes of the submodules."
   ]
  },
  {
   "cell_type": "markdown",
   "metadata": {},
   "source": [
    "## BITS.utils"
   ]
  },
  {
   "cell_type": "markdown",
   "metadata": {},
   "source": [
    "You can save a pickle object easily by:"
   ]
  },
  {
   "cell_type": "code",
   "execution_count": 26,
   "metadata": {},
   "outputs": [],
   "source": [
    "sample_obj = (1, 4, 9)\n",
    "BITS.utils.save_pickle(sample_obj, \"sample.pkl\")"
   ]
  },
  {
   "cell_type": "markdown",
   "metadata": {},
   "source": [
    "And load a pickle object by:"
   ]
  },
  {
   "cell_type": "code",
   "execution_count": 28,
   "metadata": {},
   "outputs": [
    {
     "data": {
      "text/plain": [
       "(1, 4, 9)"
      ]
     },
     "execution_count": 28,
     "metadata": {},
     "output_type": "execute_result"
    }
   ],
   "source": [
    "BITS.utils.load_pickle(\"sample.pkl\")"
   ]
  },
  {
   "cell_type": "markdown",
   "metadata": {},
   "source": [
    "You can execute a shell command easily by:"
   ]
  },
  {
   "cell_type": "code",
   "execution_count": 33,
   "metadata": {},
   "outputs": [
    {
     "data": {
      "text/plain": [
       "'something\\n'"
      ]
     },
     "execution_count": 33,
     "metadata": {},
     "output_type": "execute_result"
    }
   ],
   "source": [
    "BITS.utils.run_command(\"echo something\")"
   ]
  },
  {
   "cell_type": "markdown",
   "metadata": {},
   "source": [
    "Note that the return value of `run_command()` is a single string of the standard output."
   ]
  },
  {
   "cell_type": "markdown",
   "metadata": {},
   "source": [
    "`print_log()` is a simple decorator to write a log message when a function starts and ends. This requires `logzero` python module to output log messages. For example you can use it as:"
   ]
  },
  {
   "cell_type": "code",
   "execution_count": 44,
   "metadata": {},
   "outputs": [],
   "source": [
    "@BITS.utils.print_log(\"Awesome function\")\n",
    "def do_something(arg, **other_args):\n",
    "    print(\"Doing something\")\n",
    "    return"
   ]
  },
  {
   "cell_type": "code",
   "execution_count": 45,
   "metadata": {},
   "outputs": [
    {
     "name": "stderr",
     "output_type": "stream",
     "text": [
      "[I 190214 14:43:46 utils:46] Starting Awesome function (args=(1,), kwds={'additional': 2})\n",
      "[I 190214 14:43:46 utils:48] Finished Awesome function\n"
     ]
    },
    {
     "name": "stdout",
     "output_type": "stream",
     "text": [
      "Doing something\n"
     ]
    }
   ],
   "source": [
    "do_something(1, additional=2)"
   ]
  },
  {
   "cell_type": "markdown",
   "metadata": {},
   "source": [
    "You can add headers for a job scheduler such as SGE and SLURM to a shell script given as a string by:"
   ]
  },
  {
   "cell_type": "code",
   "execution_count": 46,
   "metadata": {},
   "outputs": [
    {
     "data": {
      "text/plain": [
       "'#!/bin/bash\\n#$ -N run_script\\n#$ -o sge.log\\n#$ -j y\\n#$ -S /bin/bash\\n#$ -cwd\\n#$ -V\\n#$ -pe smp 1\\n#$ -sync y\\n\\necho something\\n'"
      ]
     },
     "execution_count": 46,
     "metadata": {},
     "output_type": "execute_result"
    }
   ],
   "source": [
    "script = \"echo something\"\n",
    "BITS.utils.sge_nize(script)"
   ]
  },
  {
   "cell_type": "code",
   "execution_count": 47,
   "metadata": {},
   "outputs": [
    {
     "data": {
      "text/plain": [
       "'#!/bin/bash\\n#SBATCH -J run_script\\n#SBATCH -o sbatch_stdout\\n#SBATCH -e sbatch_stderr\\n#SBATCH -n 1\\n#SBATCH -N 1\\n#SBATCH -c 1\\n#SBATCH -t 24:00:00\\n#SBATCH --mem-per-cpu=1024\\n#SBATCH --partition=batch\\n#SBATCH --wait\\n\\necho something\\n'"
      ]
     },
     "execution_count": 47,
     "metadata": {},
     "output_type": "execute_result"
    }
   ],
   "source": [
    "script = \"echo something\"\n",
    "BITS.utils.slurm_nize(script)"
   ]
  },
  {
   "cell_type": "markdown",
   "metadata": {},
   "source": [
    "You can specify some options to change the parameters (see the fucntions with `?` in Jupyter Notebook)."
   ]
  },
  {
   "cell_type": "markdown",
   "metadata": {},
   "source": [
    "You can create a non-daemonic `Pool` object of the `multiprocessing` mudule using `NoDaemonPool`. A non-daemonic process can have child processes, although the original (daemonic) process cannot. You can use it completely same as original `Pool`:"
   ]
  },
  {
   "cell_type": "code",
   "execution_count": 49,
   "metadata": {},
   "outputs": [],
   "source": [
    "def return_itself(arg):\n",
    "    return arg"
   ]
  },
  {
   "cell_type": "code",
   "execution_count": 50,
   "metadata": {},
   "outputs": [
    {
     "name": "stdout",
     "output_type": "stream",
     "text": [
      "0\n",
      "1\n",
      "2\n",
      "3\n",
      "4\n"
     ]
    }
   ],
   "source": [
    "n_core = 2   # Number of cores to be used for the parallel computation\n",
    "with BITS.utils.NoDaemonPool(n_core) as pool:\n",
    "    for ret in pool.map(return_itself, range(5)):\n",
    "        print(ret)"
   ]
  },
  {
   "cell_type": "markdown",
   "metadata": {},
   "source": [
    "Below are utility functions for the `pyinterval` module:"
   ]
  },
  {
   "cell_type": "code",
   "execution_count": 2,
   "metadata": {},
   "outputs": [],
   "source": [
    "from interval import interval"
   ]
  },
  {
   "cell_type": "code",
   "execution_count": 3,
   "metadata": {},
   "outputs": [
    {
     "data": {
      "text/plain": [
       "4.0"
      ]
     },
     "execution_count": 3,
     "metadata": {},
     "output_type": "execute_result"
    }
   ],
   "source": [
    "BITS.utils.interval_len(interval([1, 2], [4, 5]))"
   ]
  },
  {
   "cell_type": "markdown",
   "metadata": {},
   "source": [
    "This returns **the number of integers** contained in the given interval."
   ]
  },
  {
   "cell_type": "code",
   "execution_count": 14,
   "metadata": {},
   "outputs": [
    {
     "data": {
      "text/plain": [
       "interval([1.0], [4.0, 5.0], [10.0])"
      ]
     },
     "execution_count": 14,
     "metadata": {},
     "output_type": "execute_result"
    }
   ],
   "source": [
    "BITS.utils.subtract_interval(interval([1, 5], [8, 10]), interval([2, 3], [5, 9]))"
   ]
  },
  {
   "cell_type": "markdown",
   "metadata": {},
   "source": [
    "And this calculates the subtraction of the second interval from the first interval **as integer intervals**."
   ]
  },
  {
   "cell_type": "markdown",
   "metadata": {},
   "source": [
    "## BITS.seq"
   ]
  },
  {
   "cell_type": "markdown",
   "metadata": {},
   "source": [
    "Suppose you have a (ill-formatted) fasta file like:"
   ]
  },
  {
   "cell_type": "code",
   "execution_count": 4,
   "metadata": {},
   "outputs": [
    {
     "name": "stdout",
     "output_type": "stream",
     "text": [
      ">sample1\r\n",
      "AAAAAAAAAAAAAAAAAAAAAAAAAAAA\r\n",
      ">sample2\r\n",
      "CCCCCCCCCCCCCCCCCCCCCC\r\n",
      "GGGGGGGGG\r\n",
      "TTTTTTTTTTTTTTTTTTTTTTTTT\r\n",
      ">sample3\r\n",
      "ACTACTAGCTGATCG"
     ]
    }
   ],
   "source": [
    "!(cat sample.fasta)"
   ]
  },
  {
   "cell_type": "markdown",
   "metadata": {},
   "source": [
    "Then you can load this as a dictionary by:"
   ]
  },
  {
   "cell_type": "code",
   "execution_count": 7,
   "metadata": {},
   "outputs": [
    {
     "data": {
      "text/plain": [
       "{'sample1': 'AAAAAAAAAAAAAAAAAAAAAAAAAAAA',\n",
       " 'sample2': 'CCCCCCCCCCCCCCCCCCCCCCGGGGGGGGGTTTTTTTTTTTTTTTTTTTTTTTTT',\n",
       " 'sample3': 'ACTACTAGCTGATCG'}"
      ]
     },
     "execution_count": 7,
     "metadata": {},
     "output_type": "execute_result"
    }
   ],
   "source": [
    "seqs = BITS.seq.load_fasta(\"sample.fasta\")\n",
    "seqs"
   ]
  },
  {
   "cell_type": "markdown",
   "metadata": {},
   "source": [
    "This operation above is internally using the BioPython's function, so any type of fasta can be loaded as you expect."
   ]
  },
  {
   "cell_type": "markdown",
   "metadata": {},
   "source": [
    "You can split a string into a list of fixed-length strings by:"
   ]
  },
  {
   "cell_type": "code",
   "execution_count": 12,
   "metadata": {},
   "outputs": [
    {
     "data": {
      "text/plain": [
       "['CCCCCCCCCC',\n",
       " 'CCCCCCCCCC',\n",
       " 'CCGGGGGGGG',\n",
       " 'GTTTTTTTTT',\n",
       " 'TTTTTTTTTT',\n",
       " 'TTTTTT']"
      ]
     },
     "execution_count": 12,
     "metadata": {},
     "output_type": "execute_result"
    }
   ],
   "source": [
    "seq = seqs['sample2']   # sequence to be splitted\n",
    "BITS.seq.single_to_multi(seq, width=10)   # <width> is the (maximum) length of each string"
   ]
  },
  {
   "cell_type": "markdown",
   "metadata": {},
   "source": [
    "You can save a fasta by:"
   ]
  },
  {
   "cell_type": "code",
   "execution_count": 13,
   "metadata": {},
   "outputs": [],
   "source": [
    "BITS.seq.save_fasta(seqs, \"sample.out.fasta\")"
   ]
  },
  {
   "cell_type": "code",
   "execution_count": 14,
   "metadata": {},
   "outputs": [
    {
     "name": "stdout",
     "output_type": "stream",
     "text": [
      ">sample1\r\n",
      "AAAAAAAAAAAAAAAAAAAAAAAAAAAA\r\n",
      ">sample2\r\n",
      "CCCCCCCCCCCCCCCCCCCCCCGGGGGGGGGTTTTTTTTTTTTTTTTTTTTTTTTT\r\n",
      ">sample3\r\n",
      "ACTACTAGCTGATCG\r\n"
     ]
    }
   ],
   "source": [
    "!(cat sample.out.fasta)"
   ]
  },
  {
   "cell_type": "markdown",
   "metadata": {},
   "source": [
    "Be careful that the input `seqs` must be a dictionary like above. You can specify the maximum file width by `out_type=\"multi\"` (and `width=XX`) option. The function with this option internally calls `single_to_multi()` just above for each sequence. Also you can set `sort=True` option and then the sequences will be sorted according to their names."
   ]
  },
  {
   "cell_type": "markdown",
   "metadata": {},
   "source": [
    "You can take reverse complement of a sequence by:"
   ]
  },
  {
   "cell_type": "code",
   "execution_count": 17,
   "metadata": {},
   "outputs": [
    {
     "name": "stdout",
     "output_type": "stream",
     "text": [
      "CCCCCCCCCCCCCCCCCCCCCCGGGGGGGGGTTTTTTTTTTTTTTTTTTTTTTTTT\n"
     ]
    },
    {
     "data": {
      "text/plain": [
       "'AAAAAAAAAAAAAAAAAAAAAAAAACCCCCCCCCGGGGGGGGGGGGGGGGGGGGGG'"
      ]
     },
     "execution_count": 17,
     "metadata": {},
     "output_type": "execute_result"
    }
   ],
   "source": [
    "print(seq)\n",
    "BITS.seq.revcomp(seq)"
   ]
  },
  {
   "cell_type": "markdown",
   "metadata": {},
   "source": [
    "You can plot a dot plot between two sequences with a class `DotPlot`. To use this, [Gepard](http://cube.univie.ac.at/gepard) must be installed in advance. First you have to specify some names like:"
   ]
  },
  {
   "cell_type": "code",
   "execution_count": 19,
   "metadata": {},
   "outputs": [],
   "source": [
    "out_dir = \"tmp\"   # Name of an arbitray directory for temporary storage of Gepard input and output. Change as you like.\n",
    "gepard_root = \"/path/to/gepard/\"   # Change to the directory in which you installed Gepard.\n",
    "gepard_jar = gepard_root + \"dist/Gepard-1.40.jar\"\n",
    "gepard_mat = gepard_root + \"resources/matrices/edna.mat\"\n",
    "gepard_command = f\"java -cp {gepard_jar} org.gepard.client.cmdline.CommandLine -matrix {gepard_mat}\""
   ]
  },
  {
   "cell_type": "markdown",
   "metadata": {},
   "source": [
    "And make an instance of `DotPlot` class using these variables:"
   ]
  },
  {
   "cell_type": "code",
   "execution_count": 20,
   "metadata": {},
   "outputs": [],
   "source": [
    "d = BITS.seq.DotPlot(out_dir, gepard_command)"
   ]
  },
  {
   "cell_type": "markdown",
   "metadata": {},
   "source": [
    "Then you can plot a dot plot of any two strings by (though the example below is very nonsense due to the sequence contents):"
   ]
  },
  {
   "cell_type": "code",
   "execution_count": 25,
   "metadata": {},
   "outputs": [
    {
     "name": "stdout",
     "output_type": "stream",
     "text": [
      "AAAAAAAAAAAAAAAAAAAAAAAAAAAA vs CCCCCCCCCCCCCCCCCCCCCCGGGGGGGGGTTTTTTTTTTTTTTTTTTTTTTTTT\n"
     ]
    },
    {
     "data": {
      "image/png": "[encoded data removed]",
      "text/plain": [
       "<Figure size 792x792 with 1 Axes>"
      ]
     },
     "metadata": {},
     "output_type": "display_data"
    }
   ],
   "source": [
    "seq_a = seqs[\"sample1\"]\n",
    "seq_b = seqs[\"sample2\"]\n",
    "print(f\"{seq_a} vs {seq_b}\")\n",
    "d.plot(seq_a, seq_b)"
   ]
  },
  {
   "cell_type": "markdown",
   "metadata": {},
   "source": [
    "## BITS.run"
   ]
  },
  {
   "cell_type": "markdown",
   "metadata": {},
   "source": [
    "Although it is still in development, we offer a class for CIGAR string manipulations:"
   ]
  },
  {
   "cell_type": "code",
   "execution_count": 25,
   "metadata": {},
   "outputs": [
    {
     "data": {
      "text/plain": [
       "<BITS.run.Cigar at 0x7f85475fe438>"
      ]
     },
     "execution_count": 25,
     "metadata": {},
     "output_type": "execute_result"
    }
   ],
   "source": [
    "cigar = BITS.run.Cigar(\"3D10=1I5=1X4=\")\n",
    "cigar"
   ]
  },
  {
   "cell_type": "markdown",
   "metadata": {},
   "source": [
    "CIGAR string will be stored as an instance variable:"
   ]
  },
  {
   "cell_type": "code",
   "execution_count": 26,
   "metadata": {},
   "outputs": [
    {
     "data": {
      "text/plain": [
       "'3D10=1I5=1X4='"
      ]
     },
     "execution_count": 26,
     "metadata": {},
     "output_type": "execute_result"
    }
   ],
   "source": [
    "cigar.string"
   ]
  },
  {
   "cell_type": "markdown",
   "metadata": {},
   "source": [
    "You can iterate CIGAR by:"
   ]
  },
  {
   "cell_type": "code",
   "execution_count": 27,
   "metadata": {},
   "outputs": [
    {
     "name": "stdout",
     "output_type": "stream",
     "text": [
      "(3, 'D')\n",
      "(10, '=')\n",
      "(1, 'I')\n",
      "(5, '=')\n",
      "(1, 'X')\n",
      "(4, '=')\n"
     ]
    }
   ],
   "source": [
    "for c in cigar.iter():\n",
    "    print(c)"
   ]
  },
  {
   "cell_type": "markdown",
   "metadata": {},
   "source": [
    "which returns you tuples for each segment of same operations. Actually `iter()` is a generator and thus you can instead obtain a list of the tuples by:"
   ]
  },
  {
   "cell_type": "code",
   "execution_count": 28,
   "metadata": {},
   "outputs": [
    {
     "data": {
      "text/plain": [
       "[(3, 'D'), (10, '='), (1, 'I'), (5, '='), (1, 'X'), (4, '=')]"
      ]
     },
     "execution_count": 28,
     "metadata": {},
     "output_type": "execute_result"
    }
   ],
   "source": [
    "list(cigar.iter())"
   ]
  },
  {
   "cell_type": "markdown",
   "metadata": {},
   "source": [
    "You can get alignment length (= the number of all operations in the CIGAR) by:"
   ]
  },
  {
   "cell_type": "code",
   "execution_count": 29,
   "metadata": {},
   "outputs": [
    {
     "data": {
      "text/plain": [
       "24"
      ]
     },
     "execution_count": 29,
     "metadata": {},
     "output_type": "execute_result"
    }
   ],
   "source": [
    "cigar.alignment_len"
   ]
  },
  {
   "cell_type": "markdown",
   "metadata": {},
   "source": [
    "You can reverse CIGAR, which is useful for reverse complement of the same sequence, by:"
   ]
  },
  {
   "cell_type": "code",
   "execution_count": 30,
   "metadata": {},
   "outputs": [
    {
     "data": {
      "text/plain": [
       "'4=1X5=1I10=3D'"
      ]
     },
     "execution_count": 30,
     "metadata": {},
     "output_type": "execute_result"
    }
   ],
   "source": [
    "cigar.reversed()"
   ]
  },
  {
   "cell_type": "markdown",
   "metadata": {},
   "source": [
    "You can \"flatten\" CIGAR as follows. Sometimes this form is much easier to handle:"
   ]
  },
  {
   "cell_type": "code",
   "execution_count": 31,
   "metadata": {},
   "outputs": [
    {
     "data": {
      "text/plain": [
       "'DDD==========I=====X===='"
      ]
     },
     "execution_count": 31,
     "metadata": {},
     "output_type": "execute_result"
    }
   ],
   "source": [
    "cigar.flatten().string"
   ]
  },
  {
   "cell_type": "markdown",
   "metadata": {},
   "source": [
    "You can calculate alignment between two strings using `edlib` library:"
   ]
  },
  {
   "cell_type": "code",
   "execution_count": 40,
   "metadata": {},
   "outputs": [
    {
     "data": {
      "text/plain": [
       "<BITS.run.Align at 0x7f8547614780>"
      ]
     },
     "execution_count": 40,
     "metadata": {},
     "output_type": "execute_result"
    }
   ],
   "source": [
    "alignment = BITS.run.run_edlib(\"ACGTTTAGAT\", \"AGGTTCGAGAT\", \"global\")\n",
    "alignment"
   ]
  },
  {
   "cell_type": "markdown",
   "metadata": {},
   "source": [
    "The function `run_edlib()` supports several options such as\n",
    "\n",
    "* `mode=[\"global\", \"glocal\", \"local\"]`: alignment type\n",
    "* `only_diff=True`: returns only %difference as a float value\n",
    "* `rc=True`: consider also reverse complement of the target sequence and returns better alignment among forward alignment and reverse complement alignment\n",
    "* `cyclic`: perform cyclic alignment between the two sequences\n",
    "* `return_seq=True` (for \"glocal\" mode): add an instance variable `seq` in the returned `Align` object, which is a substring of the target sequence aligned to the query.\n",
    "\n",
    "For other options and detailed description, see the docstring of the function."
   ]
  },
  {
   "cell_type": "markdown",
   "metadata": {},
   "source": [
    "The return value of `run_edlib()` is a class `Align`, which is also defined in `BITS.run`. You can confirm the attributes in the class instance object by:"
   ]
  },
  {
   "cell_type": "code",
   "execution_count": 41,
   "metadata": {},
   "outputs": [
    {
     "data": {
      "text/plain": [
       "{'start': 0,\n",
       " 'end': 11,\n",
       " 'edit_dist': 3,\n",
       " 'cigar': <BITS.run.Cigar at 0x7f8547614748>,\n",
       " 'length': 11,\n",
       " 'diff': 0.2727272727272727,\n",
       " 'strand': 0}"
      ]
     },
     "execution_count": 41,
     "metadata": {},
     "output_type": "execute_result"
    }
   ],
   "source": [
    "alignment.__dict__"
   ]
  },
  {
   "cell_type": "markdown",
   "metadata": {},
   "source": [
    "or briefly with CIGAR string by:"
   ]
  },
  {
   "cell_type": "code",
   "execution_count": 37,
   "metadata": {},
   "outputs": [
    {
     "name": "stderr",
     "output_type": "stream",
     "text": [
      "[I 190214 17:07:26 run:109] target[0:11] (11 bp, 0.273 diff)\n",
      "[I 190214 17:07:26 run:111] 1=1X3=1X1D4=\n"
     ]
    }
   ],
   "source": [
    "alignment.show(show_cigar=True)"
   ]
  },
  {
   "cell_type": "markdown",
   "metadata": {},
   "source": [
    "## BITS.plot"
   ]
  },
  {
   "cell_type": "markdown",
   "metadata": {},
   "source": [
    "Below is a function to easily make a line object which is an instance for the `shape` object used in `go.Layout` of `Plotly`:"
   ]
  },
  {
   "cell_type": "code",
   "execution_count": 42,
   "metadata": {},
   "outputs": [
    {
     "data": {
      "text/plain": [
       "{'type': 'line',\n",
       " 'xref': 'x',\n",
       " 'yref': 'y',\n",
       " 'x0': 0,\n",
       " 'y0': 0,\n",
       " 'x1': 1,\n",
       " 'y1': 1,\n",
       " 'line': {'color': 'black', 'width': 1},\n",
       " 'layer': 'below'}"
      ]
     },
     "execution_count": 42,
     "metadata": {},
     "output_type": "execute_result"
    }
   ],
   "source": [
    "BITS.plot.make_line(0, 0, 1, 1)"
   ]
  },
  {
   "cell_type": "markdown",
   "metadata": {},
   "source": [
    "If you just want to draw a simple scatter plot with two list-like objects with `Plotly`, you can do it as follows:"
   ]
  },
  {
   "cell_type": "code",
   "execution_count": 47,
   "metadata": {},
   "outputs": [
    {
     "data": {
      "text/html": [
       "<script type=\"text/javascript\">window.PlotlyConfig = {MathJaxConfig: 'local'};</script><script type=\"text/javascript\">if (window.MathJax) {MathJax.Hub.Config({SVG: {font: \"STIX-Web\"}});}</script><script>requirejs.config({paths: { 'plotly': ['https://cdn.plot.ly/plotly-latest.min']},});if(!window._Plotly) {require(['plotly'],function(plotly) {window._Plotly=plotly;});}</script>"
      ],
      "text/vnd.plotly.v1+html": [
       "<script type=\"text/javascript\">window.PlotlyConfig = {MathJaxConfig: 'local'};</script><script type=\"text/javascript\">if (window.MathJax) {MathJax.Hub.Config({SVG: {font: \"STIX-Web\"}});}</script><script>requirejs.config({paths: { 'plotly': ['https://cdn.plot.ly/plotly-latest.min']},});if(!window._Plotly) {require(['plotly'],function(plotly) {window._Plotly=plotly;});}</script>"
      ]
     },
     "metadata": {},
     "output_type": "display_data"
    }
   ],
   "source": [
    "# necessary for showing plots in Jupyter Notebook\n",
    "import plotly.offline as py\n",
    "py.init_notebook_mode(connected=True)"
   ]
  },
  {
   "cell_type": "code",
   "execution_count": 52,
   "metadata": {},
   "outputs": [
    {
     "data": {
      "application/vnd.plotly.v1+json": {
       "config": {
        "linkText": "Export to plot.ly",
        "plotlyServerURL": "https://plot.ly",
        "showLink": false
       },
       "data": [
        {
         "hoverinfo": "text",
         "marker": {
          "size": 5
         },
         "mode": "markers",
         "text": [
          "10",
          "11",
          "12",
          "13",
          "14"
         ],
         "type": "scatter",
         "uid": "be2c3535-a844-4c72-929b-8c2fa0ddb2b0",
         "x": [
          0,
          1,
          2,
          3,
          4
         ],
         "y": [
          5,
          6,
          7,
          8,
          9
         ]
        }
       ],
       "layout": {
        "height": 500,
        "hovermode": "closest",
        "width": 500
       }
      },
      "text/html": [
       "<div id=\"ed171a06-093e-45ae-b56a-14fe55089174\" style=\"height: 500px; width: 500px;\" class=\"plotly-graph-div\"></div><script type=\"text/javascript\">require([\"plotly\"], function(Plotly) { window.PLOTLYENV=window.PLOTLYENV || {};window.PLOTLYENV.BASE_URL=\"https://plot.ly\";Plotly.newPlot(\"ed171a06-093e-45ae-b56a-14fe55089174\", [{\"hoverinfo\": \"text\", \"marker\": {\"size\": 5}, \"mode\": \"markers\", \"text\": [\"10\", \"11\", \"12\", \"13\", \"14\"], \"x\": [0, 1, 2, 3, 4], \"y\": [5, 6, 7, 8, 9], \"type\": \"scatter\", \"uid\": \"be2c3535-a844-4c72-929b-8c2fa0ddb2b0\"}], {\"height\": 500, \"hovermode\": \"closest\", \"width\": 500}, {\"showLink\": false, \"linkText\": \"Export to plot.ly\", \"plotlyServerURL\": \"https://plot.ly\"})});</script>"
      ],
      "text/vnd.plotly.v1+html": [
       "<div id=\"ed171a06-093e-45ae-b56a-14fe55089174\" style=\"height: 500px; width: 500px;\" class=\"plotly-graph-div\"></div><script type=\"text/javascript\">require([\"plotly\"], function(Plotly) { window.PLOTLYENV=window.PLOTLYENV || {};window.PLOTLYENV.BASE_URL=\"https://plot.ly\";Plotly.newPlot(\"ed171a06-093e-45ae-b56a-14fe55089174\", [{\"hoverinfo\": \"text\", \"marker\": {\"size\": 5}, \"mode\": \"markers\", \"text\": [\"10\", \"11\", \"12\", \"13\", \"14\"], \"x\": [0, 1, 2, 3, 4], \"y\": [5, 6, 7, 8, 9], \"type\": \"scatter\", \"uid\": \"be2c3535-a844-4c72-929b-8c2fa0ddb2b0\"}], {\"height\": 500, \"hovermode\": \"closest\", \"width\": 500}, {\"showLink\": false, \"linkText\": \"Export to plot.ly\", \"plotlyServerURL\": \"https://plot.ly\"})});</script>"
      ]
     },
     "metadata": {},
     "output_type": "display_data"
    }
   ],
   "source": [
    "data_x = list(range(5))\n",
    "data_y = list(range(5, 10))\n",
    "text = list(range(10, 15))   # texts shown on the data points when hovering over the points; this is not mandatory\n",
    "BITS.plot.plot_scatter(data_x, data_y, text, width=500, height=500)"
   ]
  },
  {
   "cell_type": "markdown",
   "metadata": {},
   "source": [
    "## sge_nize and slurm_nize from shell"
   ]
  },
  {
   "cell_type": "markdown",
   "metadata": {},
   "source": [
    "You can do a similar thing as `BITS.utils.[sge|slurm]_nize()` from command-line as follows:"
   ]
  },
  {
   "cell_type": "code",
   "execution_count": 59,
   "metadata": {},
   "outputs": [
    {
     "name": "stdout",
     "output_type": "stream",
     "text": [
      "#!/bin/bash\r\n",
      "echo something\r\n"
     ]
    }
   ],
   "source": [
    "!(cat sample.sh)"
   ]
  },
  {
   "cell_type": "code",
   "execution_count": 57,
   "metadata": {},
   "outputs": [],
   "source": [
    "# Be careful that python executable called by Jupyter can be different from the one you expect\n",
    "!(/your/path/to/python3 -m BITS.sge_nize sample.sh)"
   ]
  },
  {
   "cell_type": "code",
   "execution_count": 60,
   "metadata": {},
   "outputs": [
    {
     "name": "stdout",
     "output_type": "stream",
     "text": [
      "#!/bin/bash\r\n",
      "#$ -N run_script\r\n",
      "#$ -o sge.log\r\n",
      "#$ -j y\r\n",
      "#$ -S /bin/bash\r\n",
      "#$ -cwd\r\n",
      "#$ -V\r\n",
      "#$ -pe smp 1\r\n",
      "#$ -sync y\r\n",
      "\r\n",
      "bash sample.sh\r\n",
      "\r\n"
     ]
    }
   ],
   "source": [
    "!(cat sample.sh.sge)"
   ]
  },
  {
   "cell_type": "markdown",
   "metadata": {},
   "source": [
    "Then you can run `sample.sh` with the job scheduler by `$ qsub sample.sh.sge`. Same holds for SLURM."
   ]
  },
  {
   "cell_type": "code",
   "execution_count": null,
   "metadata": {},
   "outputs": [],
   "source": []
  }
 ],
 "metadata": {
  "kernelspec": {
   "display_name": "Python 3",
   "language": "python",
   "name": "python3"
  },
  "language_info": {
   "codemirror_mode": {
    "name": "ipython",
    "version": 3
   },
   "file_extension": ".py",
   "mimetype": "text/x-python",
   "name": "python",
   "nbconvert_exporter": "python",
   "pygments_lexer": "ipython3",
   "version": "3.7.2"
  },
  "toc": {
   "base_numbering": 1,
   "nav_menu": {},
   "number_sections": true,
   "sideBar": true,
   "skip_h1_title": false,
   "title_cell": "Table of Contents",
   "title_sidebar": "Contents",
   "toc_cell": false,
   "toc_position": {},
   "toc_section_display": true,
   "toc_window_display": true
  }
 },
 "nbformat": 4,
 "nbformat_minor": 2
}
